{
 "cells": [
  {
   "cell_type": "markdown",
   "metadata": {},
   "source": [
    "# Data Wrangle OpenStreetMaps Data\n",
    "#### Mahlon Barrault\n",
    "#### August 28, 2015\n",
    "#### Map Area: Calgary, Alberta (Map Zen Extract (https://mapzen.com/data/metro-extracts) includes suburbs) "
   ]
  },
  {
   "cell_type": "markdown",
   "metadata": {},
   "source": [
    "## Table of Contents\n",
    "\n",
    "[Problems Encountered in the Map](#Problems-Encountered-in-the-Map)\n",
    "    \n",
    "* [Directional Suffixes](#Directional-Suffixes)\n",
    "\n",
    "[Data Overview](#Data-Overview)\n",
    "\n",
    "[Additional Ideas](#Additional-Ideas)"
   ]
  },
  {
   "cell_type": "markdown",
   "metadata": {},
   "source": [
    "### Problems Encountered in the Map"
   ]
  },
  {
   "cell_type": "code",
   "execution_count": 1,
   "metadata": {
    "collapsed": false
   },
   "outputs": [],
   "source": [
    "#%run tags.py"
   ]
  },
  {
   "cell_type": "markdown",
   "metadata": {},
   "source": [
    "No characters that could cause issues creating keys in MongoDB were discovered. However, there appear to be some keys that are inconsistent. "
   ]
  },
  {
   "cell_type": "code",
   "execution_count": 3,
   "metadata": {
    "collapsed": false
   },
   "outputs": [
    {
     "name": "stdout",
     "output_type": "stream",
     "text": [
      "Tags:\n",
      "defaultdict(<type 'int'>, {'node': 779009, 'nd': 935489, 'bounds': 1, 'member': 22520, 'tag': 325867, 'relation': 537, 'way': 83492, 'osm': 1})\n",
      "\n",
      "Attributes:\n",
      "defaultdict(<type 'int'>, {'changeset': 863038, 'maxlon': 1, 'type': 22520, 'uid': 863038, 'generator': 1, 'timestamp': 863039, 'k': 325867, 'v': 325867, 'lon': 779009, 'minlat': 1, 'version': 863039, 'role': 22520, 'user': 863038, 'maxlat': 1, 'lat': 779009, 'ref': 958009, 'id': 863038, 'minlon': 1})\n"
     ]
    }
   ],
   "source": [
    "%run mapparser.py"
   ]
  },
  {
   "cell_type": "markdown",
   "metadata": {},
   "source": [
    "Most of these attributes were expected. 'type' keys would have conflicted with the 'type' key that the Lesson 6 code was adding to the documents. This key was renamed to node_type. 'role' was not expected. It belonged to 'member' tags. More on processing 'member' tags to follow."
   ]
  },
  {
   "cell_type": "code",
   "execution_count": 2,
   "metadata": {
    "collapsed": false
   },
   "outputs": [],
   "source": [
    "#%run audit.py\n",
    "\n",
    "DIR_MAPPING = {'East' : 'E',\n",
    "               'N.E.' : 'NE',\n",
    "               'N.E' : 'NE',\n",
    "               'N.W' : 'NW',\n",
    "               'N.W.' : 'NW',\n",
    "               'North' : 'N',\n",
    "               'Northeast' : 'NE',\n",
    "               'Northwest' : 'NW',\n",
    "               'S.E' : 'SE',\n",
    "               'S.E.' : 'SE',\n",
    "               'S.W' : 'SW',\n",
    "               'S.W.' : 'SW',\n",
    "               'South' : 'S',\n",
    "               'South-west' : 'SW',\n",
    "               'Southeast' : 'SE',\n",
    "               'South-east' : 'SE',\n",
    "               'Southwest' : 'SW',\n",
    "               'West' : 'W'\n",
    "               }\n",
    "\n",
    "ST_TYPE_MAPPING = { \"St\": \"Street\",\n",
    "                   \"St.\": \"Street\",\n",
    "                   'street' : 'Street',\n",
    "                   \"Rd.\" : 'Road',\n",
    "                   \"Rd\" : 'Road',\n",
    "                   'Ave' : \"Avenue\",\n",
    "                   'Ave.' : \"Avenue\",\n",
    "                   'Cres' : 'Crescent',\n",
    "                   'Cres.' : 'Crescent',\n",
    "                   'Blvd' : 'Boulevard',\n",
    "                   'Blvd.' : 'Boulevard'\n",
    "                   }"
   ]
  },
  {
   "cell_type": "markdown",
   "metadata": {},
   "source": [
    "The output of audit.py allowed DIR_MAPPING and ST_TYPE_MAPPING to be produced which was used to clean the directional suffixes."
   ]
  },
  {
   "cell_type": "markdown",
   "metadata": {},
   "source": [
    "#### Directional Suffixes"
   ]
  },
  {
   "cell_type": "markdown",
   "metadata": {},
   "source": [
    "During the audit of street names the functions for the audit from Lesson 6 were altered to compensate for the use of directional suffixes. The standard for this notation was chosen to be the initials of the directional suffix, since that is the notation that is used on street signs in Calgary. Some of the 'addr:street' values have city and province included, so those data were split on ',' and the first item was used. Values like '400123 Highway 66' and 'Township Road  204A' were not altered as they are valid as they are."
   ]
  },
  {
   "cell_type": "markdown",
   "metadata": {},
   "source": [
    "Created a function in audit.py to get a count of tags using a specific attribute. member tags with role attributes were discovered that needed to be compensated for in the design of the cleaning functions. There were several 'type' attributes that would conflict with the 'type' key used in shape_node(), so it was renamed to 'node_type'. To assist in building the structure of the tags that had 'member' children member_prototype.json was produced."
   ]
  },
  {
   "cell_type": "markdown",
   "metadata": {},
   "source": [
    "While working on the street name cleaning function to compensate for the street directions the trailing white space was causing the regex to not find the suffixes. Added strip() to the calls to the RegEx."
   ]
  },
  {
   "cell_type": "markdown",
   "metadata": {},
   "source": [
    "Initial test after developing clean.py revealed that the \"tag\" tags were getting processed at the top level shape_base as well as shape_node. The condition on the call to shape_base in shape_element will need to be recoded and include the relation tags. There are \"tag\" tags that have a created_by k value, these need to be added to the created dictonary. "
   ]
  },
  {
   "cell_type": "markdown",
   "metadata": {},
   "source": [
    "After the cleaned data was imported the audit functions were executed against the data now in MongoDB. There were several None values detected. Examination of the update_st_name function determined that there was a corner case that was not accounted for. There were some street values like 'Township Road  204A' that were not a concern for cleaning but the if-elif block was ignoring them and returning None. Ran the cleaning functions and imported in to MongoDB again with Drop."
   ]
  },
  {
   "cell_type": "markdown",
   "metadata": {},
   "source": [
    " After the second import the address data was audited again and along with the expected uncleaned values like 'West Creek Court 200' was 'Rivercrest Drive South-east'. The DIR_MAPPING dictionary in clean.py was amended to include the mapping for this dirty value. Instead of extracting and importing all data again post_import_clean.py was used to correct it in MongoDB"
   ]
  },
  {
   "cell_type": "markdown",
   "metadata": {},
   "source": [
    "### Data Overview"
   ]
  },
  {
   "cell_type": "markdown",
   "metadata": {},
   "source": [
    "##### File Sizes\n",
    "calgary_canada.osm : 159 MB\n",
    "\n",
    "calgary_canada.osm.json : 184 MB\n",
    "\n",
    "##### Number of Documents\n",
    "db.calgary_canada_osm.count() : 86303\n",
    "\n",
    "##### Largest Document\n",
    "(see analyze.py) 11288 characters"
   ]
  },
  {
   "cell_type": "markdown",
   "metadata": {},
   "source": [
    "### Additional Ideas"
   ]
  }
 ],
 "metadata": {
  "kernelspec": {
   "display_name": "Python 2",
   "language": "python",
   "name": "python2"
  },
  "language_info": {
   "codemirror_mode": {
    "name": "ipython",
    "version": 2
   },
   "file_extension": ".py",
   "mimetype": "text/x-python",
   "name": "python",
   "nbconvert_exporter": "python",
   "pygments_lexer": "ipython2",
   "version": "2.7.10"
  }
 },
 "nbformat": 4,
 "nbformat_minor": 0
}
